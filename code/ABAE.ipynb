{
 "cells": [
  {
   "cell_type": "code",
   "execution_count": 1,
   "metadata": {
    "pycharm": {
     "name": "#%%\n"
    }
   },
   "outputs": [],
   "source": [
    "import os\n",
    "from argparse import Namespace\n",
    "from collections import Counter\n",
    "import json\n",
    "import re\n",
    "import string\n",
    "\n",
    "import gensim\n",
    "import numpy as np\n",
    "import pandas as pd\n",
    "import torch \n",
    "import torch.nn as nn\n",
    "import torch.nn.functional as F\n",
    "import torch.optim as optim\n",
    "import seaborn as sns\n",
    "import matplotlib.pyplot as plt\n",
    "from torch.nn import init\n",
    "from torch.nn.parameter import Parameter\n",
    "from torch.utils.data import Dataset, DataLoader\n",
    "from tqdm.notebook import tqdm\n",
    "from sklearn.metrics import classification_report\n",
    "from sklearn.cluster import MiniBatchKMeans\n",
    "from sklearn import preprocessing\n",
    "\n",
    "%matplotlib inline"
   ]
  },
  {
   "cell_type": "markdown",
   "metadata": {
    "pycharm": {
     "name": "#%% md\n"
    }
   },
   "source": [
    "### Data Vectorization classes"
   ]
  },
  {
   "cell_type": "code",
   "execution_count": 2,
   "metadata": {
    "pycharm": {
     "name": "#%%\n"
    }
   },
   "outputs": [],
   "source": [
    "class Vocabulary(object):\n",
    "    \"\"\" Class to process text and extract vocabulary for mapping\n",
    "    \n",
    "        Args:\n",
    "            token_to_idx (dict): a pre-existing map of tokens to indices\n",
    "            mask_token (str): the MASK token to add into the Vocabulary; indicates\n",
    "                a position that will not be used in updating the model's parameters\n",
    "            add_unk (bool): a flag that indicates whether to add the UNK token\n",
    "            unk_token (str): the UNK token to add into the Vocabulary\n",
    "\n",
    "    \"\"\"\n",
    "    def __init__(self, token_to_idx=None, mask_token=\"<MASK>\", unk_token=\"<UNK>\", num_token='<NUM>'):\n",
    "        if token_to_idx is None:\n",
    "            token_to_idx = {}\n",
    "        self._token_to_idx = token_to_idx\n",
    "\n",
    "        self._idx_to_token = {idx: token \n",
    "                              for token, idx in self._token_to_idx.items()}\n",
    "\n",
    "        self._unk_token = unk_token\n",
    "        self._mask_token = mask_token\n",
    "        self._num_token = num_token\n",
    "        \n",
    "        self.unk_index = self.add_token(unk_token) \n",
    "        self.num_index = self.add_token(num_token)\n",
    "        self.mask_index = self.add_token(self._mask_token)\n",
    "        \n",
    "    def to_serializable(self):\n",
    "        \"\"\"Returns a dictionary that can be serialized\"\"\"\n",
    "        return {'token_to_idx': self._token_to_idx, \n",
    "                'add_unk': self._add_unk, \n",
    "                'unk_token': self._unk_token, \n",
    "                'mask_token': self._mask_token,\n",
    "                'num_token': self._num_token,\n",
    "               }\n",
    "\n",
    "    @classmethod\n",
    "    def from_serializable(cls, contents):\n",
    "        \"\"\"Instantiates the Vocabulary from a serialized dictionary\"\"\"\n",
    "        return cls(**contents)\n",
    "\n",
    "    def add_token(self, token):\n",
    "        \"\"\"Update mapping dicts based on the token\n",
    "\n",
    "        Args:\n",
    "            token (str): the item to add into the Vocabulary\n",
    "\n",
    "        Returns:\n",
    "            index (int): the integer corresponding to the token\n",
    "\n",
    "        \"\"\"\n",
    "        if token in self._token_to_idx:\n",
    "            index = self._token_to_idx[token]\n",
    "        else:\n",
    "            index = len(self._token_to_idx)\n",
    "            self._token_to_idx[token] = index\n",
    "            self._idx_to_token[index] = token\n",
    "\n",
    "        return index\n",
    "            \n",
    "    def add_many(self, tokens):\n",
    "        \"\"\"Add a list of tokens into the Vocabulary\n",
    "        \n",
    "        Args:\n",
    "            tokens (list): a list of string tokens\n",
    "\n",
    "        Returns:\n",
    "            indices (list): a list of indices corresponding to the tokens\n",
    "\n",
    "        \"\"\"\n",
    "        return [self.add_token(token) for token in tokens]\n",
    "\n",
    "    def lookup_token(self, token):\n",
    "        \"\"\"Retrieve the index associated with the token or the UNK index if token isn't present\n",
    "        \n",
    "        Args:\n",
    "            token (str): the token to look up \n",
    "\n",
    "        Returns:\n",
    "            index (int): the index corresponding to the token\n",
    "\n",
    "        Notes:\n",
    "            `unk_index` needs to be >=0 (having been added into the Vocabulary) for the UNK functionality \n",
    "\n",
    "        \"\"\"\n",
    "        if self.is_number(token):\n",
    "            return self.num_index\n",
    "            \n",
    "        return self._token_to_idx.get(token, self.unk_index)\n",
    "    \n",
    "    def is_number(self, token):\n",
    "        \"\"\"Returns true if token in number else false\"\"\"\n",
    "        num_regex = re.compile('^[+-]?[0-9]+\\.?[0-9]*$')\n",
    "\n",
    "        return bool(num_regex.match(token))\n",
    "\n",
    "    def lookup_index(self, index):\n",
    "        \"\"\"Token associated with the index\n",
    "        \n",
    "        Args: \n",
    "            index (int): the index to look up\n",
    "\n",
    "        Returns:\n",
    "            token (str): the token corresponding to the index\n",
    "\n",
    "        Raises:\n",
    "            KeyError: if the index is not in the Vocabulary\n",
    "\n",
    "        \"\"\"\n",
    "        if index not in self._idx_to_token:\n",
    "            raise KeyError(\"the index (%d) is not in the Vocabulary\" % index)\n",
    "        return self._idx_to_token[index]\n",
    "\n",
    "    def __str__(self):\n",
    "        return \"<Vocabulary(size=%d)>\" % len(self)\n",
    "\n",
    "    def __len__(self):\n",
    "        return len(self._token_to_idx)"
   ]
  },
  {
   "cell_type": "code",
   "execution_count": 3,
   "metadata": {
    "pycharm": {
     "name": "#%%\n"
    }
   },
   "outputs": [],
   "source": [
    "class Vectorizer(object):\n",
    "    \"\"\" The Vectorizer which coordinates the Vocabularies and puts them to use\n",
    "    \n",
    "        Args:\n",
    "            vocab (Vocabulary): maps words to integers\n",
    "\n",
    "    \"\"\"    \n",
    "    def __init__(self, vocab):\n",
    "        self.vocab = vocab\n",
    "\n",
    "    def vectorize(self, context, vector_length=-1):\n",
    "        \"\"\"Vectorizer\n",
    "\n",
    "        Args:\n",
    "            context (str): the string of words separated by a space\n",
    "            vector_length (int): an argument for forcing the length of index vector\n",
    "\n",
    "        \"\"\"\n",
    "\n",
    "        indices = [self.vocab.lookup_token(token) for token in context.split(' ')]\n",
    "        if vector_length < 0:\n",
    "            vector_length = len(indices)\n",
    "\n",
    "        out_vector = np.zeros(vector_length, dtype=np.int64)\n",
    "        out_vector[-len(indices):] = indices\n",
    "        out_vector[:-len(indices)] = self.vocab.mask_index\n",
    "\n",
    "        return out_vector\n",
    "    \n",
    "    @classmethod\n",
    "    def from_dataframe(cls, df):\n",
    "        \"\"\"Instantiate the vectorizer from the dataset dataframe\n",
    "        \n",
    "        Args:\n",
    "            df(pandas.DataFrame): the target dataset\n",
    "\n",
    "        Returns:\n",
    "            an instance of the Vectorizer\n",
    "\n",
    "        \"\"\"\n",
    "        vocab = Vocabulary()\n",
    "        for index, row in df.iterrows():\n",
    "            for token in row.context.split(' '):\n",
    "                vocab.add_token(token)\n",
    "            vocab.add_token(row.target)\n",
    "            \n",
    "        return cls(vocab)\n",
    "\n",
    "    @classmethod\n",
    "    def from_serializable(cls, contents):\n",
    "        vocab = Vocabulary.from_serializable(contents['vocab'])\n",
    "        return cls(vocab=vocab)\n",
    "\n",
    "    def to_serializable(self):\n",
    "        return {'vocab': self.vocab.to_serializable()}"
   ]
  },
  {
   "cell_type": "markdown",
   "metadata": {
    "pycharm": {
     "name": "#%% md\n"
    }
   },
   "source": [
    "### The Dataset"
   ]
  },
  {
   "cell_type": "code",
   "execution_count": 4,
   "metadata": {
    "pycharm": {
     "name": "#%%\n"
    }
   },
   "outputs": [],
   "source": [
    "class Dataset(Dataset):\n",
    "    \"\"\" Dataset reader\n",
    "\n",
    "        Args:\n",
    "            df(pandas.DataFrame): the dataset\n",
    "            vectorizer (Vectorizer): vectorizer instatiated from dataset\n",
    "\n",
    "    \"\"\"\n",
    "    def __init__(self, train_df, test_df, vectorizer):\n",
    "\n",
    "        self.train_df = train_df\n",
    "        self.train_size = len(train_df)\n",
    "        \n",
    "        self.test_df = test_df\n",
    "        self.test_size = len(test_df)\n",
    "        \n",
    "        self._vectorizer = vectorizer\n",
    "        \n",
    "        measure_len = lambda context: len(context.split(\" \"))\n",
    "        self._max_seq_length = max(map(measure_len, train_df.sentence))\n",
    "        \n",
    "        self._lookup_dict = {\n",
    "            'train': (self.train_df, self.train_size),\n",
    "            'test': (self.test_df, self.test_size)\n",
    "        }\n",
    "        \n",
    "        self.set_split('train')\n",
    "        \n",
    "    @property\n",
    "    def max_seq_length(self):\n",
    "        \"\"\"Max dataset sequence len\"\"\"\n",
    "        return self._max_seq_length\n",
    "\n",
    "    def set_split(self, split=\"train\"):\n",
    "        \"\"\"Selects the splits in the dataset using a column in the dataframe \"\"\"\n",
    "        self._target_split = split\n",
    "        self._target_df, self._target_size = self._lookup_dict[split]\n",
    "    \n",
    "    def get_vectorizer(self):\n",
    "        \"\"\"Returns the vectorizer\"\"\"\n",
    "        return self._vectorizer\n",
    "\n",
    "    def __len__(self):\n",
    "        return self._target_size\n",
    "\n",
    "    def __getitem__(self, index):\n",
    "        \"\"\"Primary entry point method for PyTorch datasets\n",
    "        \n",
    "        Args:\n",
    "            index (int): the index to the data point \n",
    "\n",
    "        Returns:\n",
    "            a dictionary holding the data point's features (x_data) and label (y_target)\n",
    "\n",
    "        \"\"\"\n",
    "        row = self._target_df.iloc[index]\n",
    "        target = 0.\n",
    "\n",
    "        context_vector = self._vectorizer.vectorize(row.sentence, self._max_seq_length)\n",
    "\n",
    "        return {\n",
    "            'x_data': context_vector,\n",
    "            'y_target': 0. if self._target_split == 'train' else row.label,\n",
    "        }\n",
    "\n",
    "    def get_num_batches(self, batch_size):\n",
    "        \"\"\"Given a batch size, return the number of batches in the dataset\n",
    "        \n",
    "        Args:\n",
    "            batch_size (int)\n",
    "\n",
    "        Returns:\n",
    "            number of batches in the dataset\n",
    "\n",
    "        \"\"\"\n",
    "        return len(self) // batch_size\n",
    "    "
   ]
  },
  {
   "cell_type": "markdown",
   "metadata": {
    "pycharm": {
     "name": "#%% md\n"
    }
   },
   "source": [
    "### Utils"
   ]
  },
  {
   "cell_type": "code",
   "execution_count": 5,
   "metadata": {
    "pycharm": {
     "name": "#%%\n"
    }
   },
   "outputs": [],
   "source": [
    "def generate_batches(dataset, batch_size, shuffle=True,\n",
    "                     drop_last=True, device=\"gpu\"):\n",
    "    \"\"\"A generator function which wraps the PyTorch DataLoader. It will ensure \n",
    "        each tensor is on the write device location\n",
    "        \n",
    "    \"\"\"\n",
    "    dataloader = DataLoader(dataset=dataset, batch_size=batch_size,\n",
    "                            shuffle=shuffle, drop_last=drop_last)\n",
    "\n",
    "    for data_dict in dataloader:\n",
    "        out_data_dict = {}\n",
    "        for name, tensor in data_dict.items():\n",
    "            out_data_dict[name] = data_dict[name].to(device) \\\n",
    "            if isinstance(data_dict[name], torch.Tensor) else data_dict[name]\n",
    "        yield out_data_dict"
   ]
  },
  {
   "cell_type": "code",
   "execution_count": 6,
   "metadata": {
    "pycharm": {
     "name": "#%%\n"
    }
   },
   "outputs": [],
   "source": [
    "def preprocess_text(text):\n",
    "    \"\"\"Text preprocessing regular expression\"\"\"\n",
    "    text = ' '.join(word.lower() for word in text.split(\" \"))\n",
    "    text = re.sub(r\"([.,!?])\", r\" \\1 \", text)\n",
    "    text = re.sub(r\"[^a-zA-Z.,!?]+\", r\" \", text)\n",
    "    return text"
   ]
  },
  {
   "cell_type": "code",
   "execution_count": 7,
   "metadata": {
    "pycharm": {
     "name": "#%%\n"
    }
   },
   "outputs": [],
   "source": [
    "def get_centroids(w2v_model, aspects_count):\n",
    "    \"\"\"Clustering all word vectors with K-means and returning L2-normalizes\n",
    "        cluster centroids; used for aspects matrix initialization\n",
    "    \"\"\"\n",
    "    km = MiniBatchKMeans(n_clusters=aspects_count, verbose=0, n_init=100)\n",
    "    m = []\n",
    "\n",
    "    for k in w2v_model.wv.vocab:\n",
    "        m.append(w2v_model.wv[k])\n",
    "\n",
    "    m = np.matrix(m)\n",
    "\n",
    "    km.fit(m)\n",
    "    clusters = km.cluster_centers_\n",
    "\n",
    "    # L2 normalization\n",
    "    norm_aspect_matrix = clusters / np.linalg.norm(clusters, axis=-1, keepdims=True)\n",
    "\n",
    "    return norm_aspect_matrix"
   ]
  },
  {
   "cell_type": "markdown",
   "metadata": {
    "pycharm": {
     "name": "#%% md\n"
    }
   },
   "source": [
    "### The model: ABAE"
   ]
  },
  {
   "cell_type": "code",
   "execution_count": 8,
   "metadata": {
    "pycharm": {
     "name": "#%%\n"
    }
   },
   "outputs": [],
   "source": [
    "class SelfAttention(torch.nn.Module):\n",
    "    \"\"\"Self attention\n",
    "    \n",
    "    Args:\n",
    "        wv_dim: word vector sizeluence\n",
    "        maxlen: sentence max length taken into account\n",
    "    \n",
    "    \"\"\"\n",
    "    def __init__(self, wv_dim, maxlen):\n",
    "        super(SelfAttention, self).__init__()\n",
    "        self.wv_dim = wv_dim\n",
    "\n",
    "        # max sentence length -- batch 2nd dim size\n",
    "        self.maxlen = maxlen\n",
    "        self.M = Parameter(torch.empty(size=(wv_dim, wv_dim)))\n",
    "        init.kaiming_uniform_(self.M.data)\n",
    "\n",
    "        self.tanh = nn.Tanh()\n",
    "        self.attention_softmax = torch.nn.Softmax(dim=1)\n",
    "\n",
    "    def forward(self, input_embeddings):\n",
    "        # (b, wv, 1)\n",
    "        mean_embedding = torch.mean(input_embeddings, (1,)).unsqueeze(2)\n",
    "\n",
    "        # (wv, wv) x (b, wv, 1) -> (b, wv, 1)\n",
    "        product_1 = torch.matmul(self.M, mean_embedding)\n",
    "\n",
    "        # (b, maxlen, wv) x (b, wv, 1) -> (b, maxlen, 1)\n",
    "        product_2 = torch.matmul(input_embeddings, product_1).squeeze(2)\n",
    "\n",
    "        results = self.attention_softmax(self.tanh(product_2))\n",
    "\n",
    "        return results\n",
    "\n",
    "    def extra_repr(self):\n",
    "        return 'wv_dim={}, maxlen={}'.format(self.wv_dim, self.maxlen)"
   ]
  },
  {
   "cell_type": "code",
   "execution_count": 9,
   "metadata": {
    "pycharm": {
     "name": "#%%\n"
    }
   },
   "outputs": [],
   "source": [
    "class ABAE(torch.nn.Module):\n",
    "    \"\"\" The model described in the paper ``An Unsupervised Neural Attention Model for Aspect Extraction''\n",
    "        by He, Ruidan and  Lee, Wee Sun  and  Ng, Hwee Tou  and  Dahlmeier, Daniel, ACL2017\n",
    "        https://aclweb.org/anthology/papers/P/P17/P17-1036/. \n",
    "        \n",
    "        Based on implementation by Anton Alekseev: ''https://github.com/alexeyev/abae-pytorch''. \n",
    "        Changes: \n",
    "        - removed ortho regularization;\n",
    "        - changed activation function;\n",
    "        - embedding added in model;\n",
    "        - added tanh function to attention output;\n",
    "        - added encoder output flag.\n",
    "        \n",
    "        Args:\n",
    "            wv_dim: word vector size\n",
    "            asp_count: number of aspects\n",
    "            ortho_reg: coefficient for tuning the ortho-regularizer's influence\n",
    "            maxlen: sentence max length taken into account\n",
    "            init_aspects_matrix: None or init. matrix for aspects\n",
    "            pretrained_embedding: w2v vectors\n",
    "            encoder_only: bool - return output after encoding\n",
    "            padding_index: Mask index\n",
    "\n",
    "    \"\"\"\n",
    "    def __init__(\n",
    "        self, \n",
    "        wv_dim, \n",
    "        asp_count,\n",
    "        maxlen, \n",
    "        init_aspects_matrix,\n",
    "        pretrained_embedding,\n",
    "        padding_index,\n",
    "        encoder_only=False,\n",
    "    ):\n",
    "        super(ABAE, self).__init__()\n",
    "        self.wv_dim = wv_dim\n",
    "        self.asp_count = asp_count\n",
    "        self.maxlen = maxlen\n",
    "\n",
    "        self.embedding = torch.nn.Embedding.from_pretrained(\n",
    "            torch.FloatTensor(pretrained_embedding), \n",
    "            padding_idx=padding_index,\n",
    "        )\n",
    "        \n",
    "        self.attention = SelfAttention(wv_dim, maxlen)\n",
    "        self.linear_transform = torch.nn.Linear(self.wv_dim, self.asp_count)\n",
    "        self.softmax_aspects = torch.nn.Softmax(dim=1)\n",
    "        self.aspects_embeddings = Parameter(torch.empty(size=(wv_dim, asp_count)))\n",
    "\n",
    "        if init_aspects_matrix is None:\n",
    "            torch.nn.init.xavier_uniform(self.aspects_embeddings)\n",
    "        else:\n",
    "            self.aspects_embeddings.data = torch.from_numpy(init_aspects_matrix.T)\n",
    "            \n",
    "        self.encoder_only = encoder_only\n",
    "\n",
    "    def get_aspects_importances(self, text_embeddings):\n",
    "        \"\"\"Get aspect importances\n",
    "        \n",
    "        Args:\n",
    "            text_embedding: embeddings of a sentence as input\n",
    "        \n",
    "        Returns: \n",
    "            attention weights, aspects_importances, weighted_text_emb\n",
    "\n",
    "        \"\"\"\n",
    "        # compute attention scores, looking at text embeddings average\n",
    "        attention_weights = self.attention(text_embeddings)\n",
    "\n",
    "        # multiplying text embeddings by attention scores -- and summing\n",
    "        # (matmul: we sum every word embedding's coordinate with attention weights)\n",
    "        weighted_text_emb = torch.matmul(attention_weights.unsqueeze(1),  # (batch, 1, sentence)\n",
    "                                         text_embeddings  # (batch, sentence, wv_dim)\n",
    "                                         ).squeeze()\n",
    "\n",
    "        # encoding with a simple feed-forward layer (wv_dim) -> (aspects_count)\n",
    "        raw_importances = self.linear_transform(weighted_text_emb)\n",
    "\n",
    "        # computing 'aspects distribution in a sentence'\n",
    "        aspects_importances = self.softmax_aspects(raw_importances)\n",
    "\n",
    "        return attention_weights, aspects_importances, weighted_text_emb\n",
    "\n",
    "    def forward(self, text_embeddings, negative_samples_texts):\n",
    "        \n",
    "        text_embeddings = self.embedding(text_embeddings)\n",
    "\n",
    "        # encoding: words embeddings -> sentence embedding, aspects importances\n",
    "        _, aspects_importances, weighted_text_emb = self.get_aspects_importances(text_embeddings)\n",
    "        \n",
    "        if self.encoder_only:\n",
    "            return aspects_importances\n",
    "        else:\n",
    "            negative_samples_texts = self.embedding(negative_samples_texts)\n",
    "            \n",
    "            # negative samples are averaged\n",
    "            averaged_negative_samples = torch.mean(negative_samples_texts, dim=1)\n",
    "            averaged_negative_samples = torch.mean(averaged_negative_samples, dim=1)\n",
    "            \n",
    "            # decoding: aspects embeddings matrix, aspects_importances -> recovered sentence embedding\n",
    "            recovered_emb = torch.matmul(self.aspects_embeddings, aspects_importances.unsqueeze(2)).squeeze()\n",
    "            \n",
    "            return weighted_text_emb, recovered_emb, averaged_negative_samples\n",
    "\n",
    "    def get_aspect_words(self, w2v_model, topn=10):\n",
    "        \"\"\"Getting aspects words\"\"\"\n",
    "        words = []\n",
    "        aspects = self.aspects_embeddings.cpu().detach().numpy()\n",
    "        words_scores = w2v_model.wv.vectors.dot(aspects)\n",
    "\n",
    "        for row in range(aspects.shape[1]):\n",
    "            argmax_scalar_products = np.argsort(- words_scores[:, row])[:topn]\n",
    "            words.append([w2v_model.wv.index2word[i] for i in argmax_scalar_products])\n",
    "\n",
    "        return words"
   ]
  },
  {
   "cell_type": "markdown",
   "metadata": {
    "pycharm": {
     "name": "#%% md\n"
    }
   },
   "source": [
    "### Training utils"
   ]
  },
  {
   "cell_type": "code",
   "execution_count": 10,
   "metadata": {
    "pycharm": {
     "name": "#%%\n"
    }
   },
   "outputs": [],
   "source": [
    "def set_seed_everywhere(seed, cuda):\n",
    "    np.random.seed(seed)\n",
    "    torch.manual_seed(seed)\n",
    "    if cuda:\n",
    "        torch.cuda.manual_seed_all(seed)\n",
    "\n",
    "        \n",
    "def handle_dirs(dirpath):\n",
    "    if not os.path.exists(dirpath):\n",
    "        os.makedirs(dirpath)\n",
    "\n",
    "    \n",
    "def make_train_state(args):\n",
    "    return {\n",
    "        'stop_early': False,\n",
    "        'early_stopping_step': 0,\n",
    "        'early_stopping_best_val': 1e8,\n",
    "        'learning_rate': args.learning_rate,\n",
    "        'epoch_index': 0,\n",
    "        'train_loss': [],\n",
    "        'model_filename': args.model_state_file\n",
    "    }\n",
    "\n",
    "\n",
    "def update_train_state(args, model, train_state):\n",
    "    \"\"\"Handle the training state updates\n",
    "\n",
    "    Components:\n",
    "     - Early Stopping: Prevent overfitting.\n",
    "     - Model Checkpoint: Model is saved if the model is better\n",
    "\n",
    "    Args:\n",
    "        args: main arguments\n",
    "        model: model to train\n",
    "        train_state: a dictionary representing the training state values\n",
    "    \n",
    "    Returns:\n",
    "        new train_state\n",
    "\n",
    "    \"\"\"\n",
    "    # Save one model at least\n",
    "    if train_state['epoch_index'] == 0:\n",
    "        torch.save(model.state_dict(), train_state['model_filename'])\n",
    "        train_state['stop_early'] = False\n",
    "\n",
    "    # Save model if performance improved\n",
    "    elif train_state['epoch_index'] >= 1:\n",
    "        loss_tm1, loss_t = train_state['train_loss'][-2:]\n",
    "\n",
    "        # If loss worsened\n",
    "        if loss_t >= train_state['early_stopping_best_val']:\n",
    "            # Update step\n",
    "            train_state['early_stopping_step'] += 1\n",
    "        # Loss decreased\n",
    "        else:\n",
    "            # Save the best model\n",
    "            if loss_t < train_state['early_stopping_best_val']:\n",
    "                torch.save(model.state_dict(), train_state['model_filename'])\n",
    "                train_state['early_stopping_best_val'] = loss_t\n",
    "\n",
    "            # Reset early stopping step\n",
    "            train_state['early_stopping_step'] = 0\n",
    "\n",
    "        # Stop early ?\n",
    "        train_state['stop_early'] = \\\n",
    "            train_state['early_stopping_step'] >= args.early_stopping_criteria\n",
    "\n",
    "    return train_state"
   ]
  },
  {
   "cell_type": "markdown",
   "metadata": {
    "pycharm": {
     "name": "#%% md\n"
    }
   },
   "source": [
    "### Settings"
   ]
  },
  {
   "cell_type": "code",
   "execution_count": 11,
   "metadata": {
    "pycharm": {
     "name": "#%%\n"
    }
   },
   "outputs": [
    {
     "name": "stdout",
     "output_type": "stream",
     "text": [
      "Using CUDA: True\n"
     ]
    }
   ],
   "source": [
    "args = Namespace(\n",
    "    train_data='preprocessed_data/restaurant/train.txt',\n",
    "    test_data='preprocessed_data/restaurant/test.txt',\n",
    "    test_labels='preprocessed_data/restaurant/test_label.txt',\n",
    "    emb_path='preprocessed_data/restaurant/w2v_embedding',\n",
    "    \n",
    "    emb_dim=200,\n",
    "    batch_size=1000,\n",
    "    vocab_size=9000,\n",
    "    aspect_size=14,\n",
    "    epochs=15,\n",
    "    neg_size=20,\n",
    "    maxlen=-1,\n",
    "\n",
    "    cuda=True,\n",
    "    reload_from_files=False,\n",
    "    learning_rate=1e-4,\n",
    "    early_stopping_criteria=5,  \n",
    "    catch_keyboard_interrupt=True,\n",
    "    seed=1234,\n",
    "    \n",
    "    save_dir=\"model_storage\",\n",
    "    model_state_file=\"model.pth\",\n",
    ")\n",
    "\n",
    "args.device = torch.device(\"cuda\" if args.cuda else \"cpu\")\n",
    "print(\"Using CUDA: {}\".format(args.cuda))\n",
    "set_seed_everywhere(args.seed, args.cuda)\n",
    "handle_dirs(args.save_dir)"
   ]
  },
  {
   "cell_type": "markdown",
   "metadata": {
    "pycharm": {
     "name": "#%% md\n"
    }
   },
   "source": [
    "### Data preprocessings"
   ]
  },
  {
   "cell_type": "code",
   "execution_count": 12,
   "metadata": {
    "pycharm": {
     "name": "#%%\n"
    }
   },
   "outputs": [
    {
     "data": {
      "text/plain": "  0%|          | 0/279885 [00:00<?, ?it/s]",
      "application/vnd.jupyter.widget-view+json": {
       "version_major": 2,
       "version_minor": 0,
       "model_id": "53c72ef92a0a4416aec4f1e911e1d240"
      }
     },
     "metadata": {},
     "output_type": "display_data"
    },
    {
     "ename": "KeyboardInterrupt",
     "evalue": "",
     "output_type": "error",
     "traceback": [
      "\u001B[1;31m---------------------------------------------------------------------------\u001B[0m",
      "\u001B[1;31mKeyboardInterrupt\u001B[0m                         Traceback (most recent call last)",
      "\u001B[1;32m<ipython-input-12-e4556299af7c>\u001B[0m in \u001B[0;36m<module>\u001B[1;34m\u001B[0m\n\u001B[0;32m      4\u001B[0m         \u001B[0msentences\u001B[0m\u001B[1;33m.\u001B[0m\u001B[0mappend\u001B[0m\u001B[1;33m(\u001B[0m\u001B[0mline\u001B[0m\u001B[1;33m)\u001B[0m\u001B[1;33m\u001B[0m\u001B[1;33m\u001B[0m\u001B[0m\n\u001B[0;32m      5\u001B[0m \u001B[1;33m\u001B[0m\u001B[0m\n\u001B[1;32m----> 6\u001B[1;33m \u001B[0mcleaned_sentences\u001B[0m \u001B[1;33m=\u001B[0m \u001B[1;33m[\u001B[0m\u001B[0mpreprocess_text\u001B[0m\u001B[1;33m(\u001B[0m\u001B[0msentence\u001B[0m\u001B[1;33m)\u001B[0m \u001B[1;32mfor\u001B[0m \u001B[0msentence\u001B[0m \u001B[1;32min\u001B[0m \u001B[0msentences\u001B[0m\u001B[1;33m]\u001B[0m\u001B[1;33m\u001B[0m\u001B[1;33m\u001B[0m\u001B[0m\n\u001B[0m\u001B[0;32m      7\u001B[0m \u001B[1;33m\u001B[0m\u001B[0m\n\u001B[0;32m      8\u001B[0m \u001B[0mprint\u001B[0m \u001B[1;33m(\u001B[0m\u001B[0mlen\u001B[0m\u001B[1;33m(\u001B[0m\u001B[0mcleaned_sentences\u001B[0m\u001B[1;33m)\u001B[0m\u001B[1;33m,\u001B[0m \u001B[1;34m\"sentences\"\u001B[0m\u001B[1;33m)\u001B[0m\u001B[1;33m\u001B[0m\u001B[1;33m\u001B[0m\u001B[0m\n",
      "\u001B[1;32m<ipython-input-12-e4556299af7c>\u001B[0m in \u001B[0;36m<listcomp>\u001B[1;34m(.0)\u001B[0m\n\u001B[0;32m      4\u001B[0m         \u001B[0msentences\u001B[0m\u001B[1;33m.\u001B[0m\u001B[0mappend\u001B[0m\u001B[1;33m(\u001B[0m\u001B[0mline\u001B[0m\u001B[1;33m)\u001B[0m\u001B[1;33m\u001B[0m\u001B[1;33m\u001B[0m\u001B[0m\n\u001B[0;32m      5\u001B[0m \u001B[1;33m\u001B[0m\u001B[0m\n\u001B[1;32m----> 6\u001B[1;33m \u001B[0mcleaned_sentences\u001B[0m \u001B[1;33m=\u001B[0m \u001B[1;33m[\u001B[0m\u001B[0mpreprocess_text\u001B[0m\u001B[1;33m(\u001B[0m\u001B[0msentence\u001B[0m\u001B[1;33m)\u001B[0m \u001B[1;32mfor\u001B[0m \u001B[0msentence\u001B[0m \u001B[1;32min\u001B[0m \u001B[0msentences\u001B[0m\u001B[1;33m]\u001B[0m\u001B[1;33m\u001B[0m\u001B[1;33m\u001B[0m\u001B[0m\n\u001B[0m\u001B[0;32m      7\u001B[0m \u001B[1;33m\u001B[0m\u001B[0m\n\u001B[0;32m      8\u001B[0m \u001B[0mprint\u001B[0m \u001B[1;33m(\u001B[0m\u001B[0mlen\u001B[0m\u001B[1;33m(\u001B[0m\u001B[0mcleaned_sentences\u001B[0m\u001B[1;33m)\u001B[0m\u001B[1;33m,\u001B[0m \u001B[1;34m\"sentences\"\u001B[0m\u001B[1;33m)\u001B[0m\u001B[1;33m\u001B[0m\u001B[1;33m\u001B[0m\u001B[0m\n",
      "\u001B[1;32m<ipython-input-6-56b4237bcba8>\u001B[0m in \u001B[0;36mpreprocess_text\u001B[1;34m(text)\u001B[0m\n\u001B[0;32m      2\u001B[0m     \u001B[1;34m\"\"\"Text preprocessing regular expression\"\"\"\u001B[0m\u001B[1;33m\u001B[0m\u001B[1;33m\u001B[0m\u001B[0m\n\u001B[0;32m      3\u001B[0m     \u001B[0mtext\u001B[0m \u001B[1;33m=\u001B[0m \u001B[1;34m' '\u001B[0m\u001B[1;33m.\u001B[0m\u001B[0mjoin\u001B[0m\u001B[1;33m(\u001B[0m\u001B[0mword\u001B[0m\u001B[1;33m.\u001B[0m\u001B[0mlower\u001B[0m\u001B[1;33m(\u001B[0m\u001B[1;33m)\u001B[0m \u001B[1;32mfor\u001B[0m \u001B[0mword\u001B[0m \u001B[1;32min\u001B[0m \u001B[0mtext\u001B[0m\u001B[1;33m.\u001B[0m\u001B[0msplit\u001B[0m\u001B[1;33m(\u001B[0m\u001B[1;34m\" \"\u001B[0m\u001B[1;33m)\u001B[0m\u001B[1;33m)\u001B[0m\u001B[1;33m\u001B[0m\u001B[1;33m\u001B[0m\u001B[0m\n\u001B[1;32m----> 4\u001B[1;33m     \u001B[0mtext\u001B[0m \u001B[1;33m=\u001B[0m \u001B[0mre\u001B[0m\u001B[1;33m.\u001B[0m\u001B[0msub\u001B[0m\u001B[1;33m(\u001B[0m\u001B[1;34mr\"([.,!?])\"\u001B[0m\u001B[1;33m,\u001B[0m \u001B[1;34mr\" \\1 \"\u001B[0m\u001B[1;33m,\u001B[0m \u001B[0mtext\u001B[0m\u001B[1;33m)\u001B[0m\u001B[1;33m\u001B[0m\u001B[1;33m\u001B[0m\u001B[0m\n\u001B[0m\u001B[0;32m      5\u001B[0m     \u001B[0mtext\u001B[0m \u001B[1;33m=\u001B[0m \u001B[0mre\u001B[0m\u001B[1;33m.\u001B[0m\u001B[0msub\u001B[0m\u001B[1;33m(\u001B[0m\u001B[1;34mr\"[^a-zA-Z.,!?]+\"\u001B[0m\u001B[1;33m,\u001B[0m \u001B[1;34mr\" \"\u001B[0m\u001B[1;33m,\u001B[0m \u001B[0mtext\u001B[0m\u001B[1;33m)\u001B[0m\u001B[1;33m\u001B[0m\u001B[1;33m\u001B[0m\u001B[0m\n\u001B[0;32m      6\u001B[0m     \u001B[1;32mreturn\u001B[0m \u001B[0mtext\u001B[0m\u001B[1;33m\u001B[0m\u001B[1;33m\u001B[0m\u001B[0m\n",
      "\u001B[1;32m~\\anaconda3\\envs\\Attention-And-Capsule-Based-Aspect-Extraction\\lib\\re.py\u001B[0m in \u001B[0;36msub\u001B[1;34m(pattern, repl, string, count, flags)\u001B[0m\n\u001B[0;32m    192\u001B[0m     \u001B[0ma\u001B[0m \u001B[0mcallable\u001B[0m\u001B[1;33m,\u001B[0m \u001B[0mit\u001B[0m\u001B[0;31m'\u001B[0m\u001B[0ms\u001B[0m \u001B[0mpassed\u001B[0m \u001B[0mthe\u001B[0m \u001B[0mMatch\u001B[0m \u001B[0mobject\u001B[0m \u001B[1;32mand\u001B[0m \u001B[0mmust\u001B[0m \u001B[1;32mreturn\u001B[0m\u001B[1;33m\u001B[0m\u001B[1;33m\u001B[0m\u001B[0m\n\u001B[0;32m    193\u001B[0m     a replacement string to be used.\"\"\"\n\u001B[1;32m--> 194\u001B[1;33m     \u001B[1;32mreturn\u001B[0m \u001B[0m_compile\u001B[0m\u001B[1;33m(\u001B[0m\u001B[0mpattern\u001B[0m\u001B[1;33m,\u001B[0m \u001B[0mflags\u001B[0m\u001B[1;33m)\u001B[0m\u001B[1;33m.\u001B[0m\u001B[0msub\u001B[0m\u001B[1;33m(\u001B[0m\u001B[0mrepl\u001B[0m\u001B[1;33m,\u001B[0m \u001B[0mstring\u001B[0m\u001B[1;33m,\u001B[0m \u001B[0mcount\u001B[0m\u001B[1;33m)\u001B[0m\u001B[1;33m\u001B[0m\u001B[1;33m\u001B[0m\u001B[0m\n\u001B[0m\u001B[0;32m    195\u001B[0m \u001B[1;33m\u001B[0m\u001B[0m\n\u001B[0;32m    196\u001B[0m \u001B[1;32mdef\u001B[0m \u001B[0msubn\u001B[0m\u001B[1;33m(\u001B[0m\u001B[0mpattern\u001B[0m\u001B[1;33m,\u001B[0m \u001B[0mrepl\u001B[0m\u001B[1;33m,\u001B[0m \u001B[0mstring\u001B[0m\u001B[1;33m,\u001B[0m \u001B[0mcount\u001B[0m\u001B[1;33m=\u001B[0m\u001B[1;36m0\u001B[0m\u001B[1;33m,\u001B[0m \u001B[0mflags\u001B[0m\u001B[1;33m=\u001B[0m\u001B[1;36m0\u001B[0m\u001B[1;33m)\u001B[0m\u001B[1;33m:\u001B[0m\u001B[1;33m\u001B[0m\u001B[1;33m\u001B[0m\u001B[0m\n",
      "\u001B[1;32m~\\anaconda3\\envs\\Attention-And-Capsule-Based-Aspect-Extraction\\lib\\re.py\u001B[0m in \u001B[0;36m_subx\u001B[1;34m(pattern, template)\u001B[0m\n\u001B[0;32m    309\u001B[0m \u001B[1;32mdef\u001B[0m \u001B[0m_subx\u001B[0m\u001B[1;33m(\u001B[0m\u001B[0mpattern\u001B[0m\u001B[1;33m,\u001B[0m \u001B[0mtemplate\u001B[0m\u001B[1;33m)\u001B[0m\u001B[1;33m:\u001B[0m\u001B[1;33m\u001B[0m\u001B[1;33m\u001B[0m\u001B[0m\n\u001B[0;32m    310\u001B[0m     \u001B[1;31m# internal: Pattern.sub/subn implementation helper\u001B[0m\u001B[1;33m\u001B[0m\u001B[1;33m\u001B[0m\u001B[1;33m\u001B[0m\u001B[0m\n\u001B[1;32m--> 311\u001B[1;33m     \u001B[0mtemplate\u001B[0m \u001B[1;33m=\u001B[0m \u001B[0m_compile_repl\u001B[0m\u001B[1;33m(\u001B[0m\u001B[0mtemplate\u001B[0m\u001B[1;33m,\u001B[0m \u001B[0mpattern\u001B[0m\u001B[1;33m)\u001B[0m\u001B[1;33m\u001B[0m\u001B[1;33m\u001B[0m\u001B[0m\n\u001B[0m\u001B[0;32m    312\u001B[0m     \u001B[1;32mif\u001B[0m \u001B[1;32mnot\u001B[0m \u001B[0mtemplate\u001B[0m\u001B[1;33m[\u001B[0m\u001B[1;36m0\u001B[0m\u001B[1;33m]\u001B[0m \u001B[1;32mand\u001B[0m \u001B[0mlen\u001B[0m\u001B[1;33m(\u001B[0m\u001B[0mtemplate\u001B[0m\u001B[1;33m[\u001B[0m\u001B[1;36m1\u001B[0m\u001B[1;33m]\u001B[0m\u001B[1;33m)\u001B[0m \u001B[1;33m==\u001B[0m \u001B[1;36m1\u001B[0m\u001B[1;33m:\u001B[0m\u001B[1;33m\u001B[0m\u001B[1;33m\u001B[0m\u001B[0m\n\u001B[0;32m    313\u001B[0m         \u001B[1;31m# literal replacement\u001B[0m\u001B[1;33m\u001B[0m\u001B[1;33m\u001B[0m\u001B[1;33m\u001B[0m\u001B[0m\n",
      "\u001B[1;31mKeyboardInterrupt\u001B[0m: "
     ]
    }
   ],
   "source": [
    "sentences = []\n",
    "with open('preprocessed_data/restaurant/train.txt') as fp:\n",
    "    for line in tqdm(fp.readlines()):\n",
    "        sentences.append(line)\n",
    "        \n",
    "cleaned_sentences = [preprocess_text(sentence) for sentence in sentences]\n",
    "\n",
    "print (len(cleaned_sentences), \"sentences\")\n",
    "print (\"Sample:\", cleaned_sentences[42])\n",
    "\n",
    "train_df = pd.DataFrame(cleaned_sentences, columns=[\"sentence\"])\n",
    "\n",
    "train_df.head()"
   ]
  },
  {
   "cell_type": "code",
   "execution_count": null,
   "metadata": {
    "pycharm": {
     "name": "#%%\n"
    }
   },
   "outputs": [],
   "source": [
    "sentences = []\n",
    "labels = []\n",
    "\n",
    "with open('preprocessed_data/restaurant/test.txt') as fp:\n",
    "    for line in tqdm(fp.readlines()):\n",
    "        sentences.append(line)\n",
    "        \n",
    "with open('preprocessed_data/restaurant/test_label.txt') as fp:\n",
    "    for line in tqdm(fp.readlines()):\n",
    "        labels.append(line)\n",
    "        \n",
    "cleaned_sentences = [preprocess_text(sentence) for sentence in sentences]\n",
    "cleaned_labels = [preprocess_text(label.split()[0]) for label in labels]\n",
    "\n",
    "print (len(cleaned_sentences), \"sentences\")\n",
    "print (\"Sample sentence:\", cleaned_sentences[42])\n",
    "print (\"Sample label:\", cleaned_labels[42])\n",
    "    \n",
    "test_df = pd.DataFrame({'sentence': cleaned_sentences, 'label': cleaned_labels})\n",
    "\n",
    "test_df.head()"
   ]
  },
  {
   "cell_type": "code",
   "execution_count": null,
   "metadata": {
    "pycharm": {
     "name": "#%%\n"
    }
   },
   "outputs": [],
   "source": [
    "w2v = gensim.models.Word2Vec.load(args.emb_path)\n",
    "token2index_lim = {token: index for index, token in enumerate(w2v.wv.index2word) if index < args.vocab_size}\n",
    "token2index_all = {token: index for index, token in enumerate(w2v.wv.index2word)}\n",
    "vocab = Vocabulary(token2index_lim)\n",
    "vectorizer = Vectorizer(vocab)\n",
    "dataset = Dataset(train_df, test_df , vectorizer)"
   ]
  },
  {
   "cell_type": "markdown",
   "metadata": {
    "pycharm": {
     "name": "#%% md\n"
    }
   },
   "source": [
    "### Training routine"
   ]
  },
  {
   "cell_type": "code",
   "execution_count": null,
   "metadata": {
    "pycharm": {
     "name": "#%%\n"
    }
   },
   "outputs": [],
   "source": [
    "model = ABAE(\n",
    "    wv_dim=args.emb_dim,\n",
    "    asp_count=args.aspect_size,\n",
    "    maxlen=dataset.max_seq_length, \n",
    "    init_aspects_matrix=get_centroids(w2v, args.aspect_size),\n",
    "    pretrained_embedding=w2v.wv.vectors,\n",
    "    padding_index=vocab.mask_index,\n",
    ")\n",
    "\n",
    "model = model.to(args.device)\n",
    "loss_func = nn.TripletMarginLoss(margin=1, swap=False, reduction='mean')\n",
    "optimizer = optim.Adam(model.parameters(), lr=args.learning_rate)\n",
    "scheduler = optim.lr_scheduler.ReduceLROnPlateau(\n",
    "    optimizer=optimizer,\n",
    "    mode='min', \n",
    "    factor=0.5,\n",
    "    patience=1\n",
    ")\n",
    "\n",
    "train_state = make_train_state(args)"
   ]
  },
  {
   "cell_type": "code",
   "execution_count": null,
   "metadata": {
    "pycharm": {
     "name": "#%%\n"
    }
   },
   "outputs": [],
   "source": [
    "epoch_bar = tqdm(\n",
    "    desc='training routine', \n",
    "    total=args.epochs,\n",
    "    position=1,\n",
    ")\n",
    "\n",
    "dataset.set_split('train')\n",
    "train_bar = tqdm(\n",
    "    desc='train',\n",
    "    total=dataset.get_num_batches(args.batch_size), \n",
    "    position=1, \n",
    ")\n",
    "\n",
    "for epoch_index in range(args.epochs):\n",
    "    \n",
    "    train_state['epoch_index'] = epoch_index\n",
    "    \n",
    "    running_loss = 0.0\n",
    "    model.train()\n",
    "    \n",
    "    batch_generator = generate_batches(\n",
    "        dataset, \n",
    "        batch_size=args.batch_size, \n",
    "        device=args.device\n",
    "    )\n",
    "    \n",
    "    neg_batch_generator = generate_batches(\n",
    "        dataset, \n",
    "        batch_size=args.batch_size, \n",
    "        shuffle=False,\n",
    "        device=args.device,\n",
    "    )\n",
    "\n",
    "    for batch_index, batch_dict in enumerate(batch_generator):\n",
    "\n",
    "        optimizer.zero_grad()\n",
    "        \n",
    "        x = batch_dict['x_data']\n",
    "        y = batch_dict['y_target'].float()\n",
    "        x_neg = next(neg_batch_generator)['x_data']\n",
    "\n",
    "        negative_samples = torch.stack(\n",
    "            tuple([x_neg[torch.randperm(x_neg.shape[0])[:args.neg_size]] \n",
    "                   for _ in range(args.batch_size)])\n",
    "        ).to(args.device)\n",
    "\n",
    "        anchor, positive, negative = model(x, negative_samples)\n",
    "        loss = loss_func(anchor, positive, negative)\n",
    "        loss_t = loss.item()\n",
    "\n",
    "        running_loss += (loss_t - running_loss) / (batch_index + 1)\n",
    "        loss.backward()\n",
    "\n",
    "        optimizer.step()\n",
    "        \n",
    "        train_bar.set_postfix(loss=running_loss, epoch=epoch_index)\n",
    "        train_bar.update()\n",
    "\n",
    "    train_state['train_loss'].append(running_loss)\n",
    "    train_state = update_train_state(args=args, model=model, train_state=train_state)\n",
    "    scheduler.step(train_state['train_loss'][-1])\n",
    "    \n",
    "    # uncomment the lines below to display the aspects words after each training loop\n",
    "    # print(batch_index, \"batches, and LR:\", optimizer.param_groups[0]['lr'])\n",
    "    # for i, aspect in enumerate(model.get_aspect_words(w2v)):\n",
    "    #     print(i, \" \".join([a for a in aspect]))\n",
    "    # print()\n",
    "\n",
    "    if train_state['stop_early']:\n",
    "        break\n",
    "\n",
    "    train_bar.n = 0\n",
    "\n",
    "    epoch_bar.set_postfix(best_val=train_state['early_stopping_best_val'])\n",
    "    epoch_bar.update()"
   ]
  },
  {
   "cell_type": "code",
   "execution_count": null,
   "metadata": {
    "pycharm": {
     "name": "#%%\n"
    }
   },
   "outputs": [],
   "source": [
    "plt.figure(figsize=(10, 7))\n",
    "sns.lineplot(\n",
    "    x=[epoch + 1 for epoch in range(len(train_state['train_loss']))],\n",
    "    y=train_state['train_loss'],\n",
    "    color='coral', \n",
    "    label='loss',\n",
    ")\n",
    "\n",
    "plt.xticks([epoch for epoch in range(len(train_state['train_loss']) + 1)])\n",
    "plt.show()"
   ]
  },
  {
   "cell_type": "markdown",
   "metadata": {
    "pycharm": {
     "name": "#%% md\n"
    }
   },
   "source": [
    "### Evaluation"
   ]
  },
  {
   "cell_type": "code",
   "execution_count": null,
   "outputs": [],
   "source": [],
   "metadata": {
    "collapsed": false,
    "pycharm": {
     "name": "#%%\n"
    }
   }
  },
  {
   "cell_type": "code",
   "execution_count": null,
   "metadata": {
    "pycharm": {
     "name": "#%%\n"
    }
   },
   "outputs": [],
   "source": [
    "model.load_state_dict(torch.load(train_state['model_filename']))\n",
    "model = model.to(args.device)\n",
    "loss_func = torch.nn.MSELoss(reduction=\"sum\")\n",
    "dataset.set_split('test')\n",
    "\n",
    "batch_generator = generate_batches(\n",
    "    dataset, \n",
    "    batch_size=args.batch_size, \n",
    "    device=args.device,\n",
    "    drop_last=False\n",
    ")\n",
    "\n",
    "model.eval()\n",
    "model.encoder_only = True\n",
    "predictions = []\n",
    "targets = []\n",
    "\n",
    "with torch.no_grad():\n",
    "    for batch_index, batch_dict in enumerate(batch_generator):\n",
    "        \n",
    "        x = batch_dict['x_data']\n",
    "        y_target = batch_dict['y_target']\n",
    "        \n",
    "        y_pred = model(x, None)\n",
    "        for pred, target in zip(y_pred, y_target):\n",
    "            predictions.append(pred.cpu().numpy().argmax())\n",
    "            targets.append(target)"
   ]
  },
  {
   "cell_type": "code",
   "execution_count": null,
   "metadata": {
    "pycharm": {
     "name": "#%%\n"
    }
   },
   "outputs": [],
   "source": [
    "print(len(predictions))\n",
    "print(len(targets))\n",
    "print(Counter(predictions))\n",
    "print(Counter(targets))"
   ]
  },
  {
   "cell_type": "code",
   "execution_count": null,
   "metadata": {
    "pycharm": {
     "name": "#%%\n"
    }
   },
   "outputs": [],
   "source": [
    "for i, aspect in enumerate(model.get_aspect_words(w2v)):\n",
    "    print(i, \" \".join([a for a in aspect]))"
   ]
  },
  {
   "cell_type": "code",
   "execution_count": null,
   "metadata": {
    "pycharm": {
     "name": "#%%\n"
    }
   },
   "outputs": [],
   "source": [
    "# update cluster map manually after each training\n",
    "\n",
    "# possible labels\n",
    "LABELS = ['ambience', 'food', 'miscellaneous', 'price', 'staff', 'anecdotes']\n",
    "cluster_map = {\n",
    "    0: 'food', \n",
    "    1: 'anecdotes',\n",
    "    2: 'food',\n",
    "    3: 'price',\n",
    "    4: 'food',\n",
    "    5: 'price',\n",
    "    6: 'food',\n",
    "    7: 'staff',\n",
    "    8: 'staff',\n",
    "    9: 'staff',\n",
    "    10: 'ambience',\n",
    "    11: 'miscellaneous',\n",
    "    12: 'food', \n",
    "    13: 'food'\n",
    "}\n",
    "\n",
    "y_pred = [cluster_map[pred] for pred in predictions]\n",
    "y_true = targets\n",
    "\n",
    "print(classification_report(y_true, y_pred))"
   ]
  },
  {
   "cell_type": "code",
   "execution_count": null,
   "metadata": {
    "pycharm": {
     "name": "#%%\n"
    }
   },
   "outputs": [],
   "source": []
  }
 ],
 "metadata": {
  "kernelspec": {
   "display_name": "Python 3",
   "language": "python",
   "name": "python3"
  },
  "language_info": {
   "codemirror_mode": {
    "name": "ipython",
    "version": 3
   },
   "file_extension": ".py",
   "mimetype": "text/x-python",
   "name": "python",
   "nbconvert_exporter": "python",
   "pygments_lexer": "ipython3",
   "version": "3.8.3"
  }
 },
 "nbformat": 4,
 "nbformat_minor": 4
}